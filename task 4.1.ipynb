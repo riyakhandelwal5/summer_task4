{
 "cells": [
  {
   "cell_type": "code",
   "execution_count": 1,
   "id": "956660d1",
   "metadata": {},
   "outputs": [],
   "source": [
    "import numpy"
   ]
  },
  {
   "cell_type": "code",
   "execution_count": 2,
   "id": "092b2e50",
   "metadata": {},
   "outputs": [],
   "source": [
    "my_image = numpy.zeros((400,400,3))"
   ]
  },
  {
   "cell_type": "code",
   "execution_count": 3,
   "id": "00029830",
   "metadata": {},
   "outputs": [
    {
     "name": "stdout",
     "output_type": "stream",
     "text": [
      "Requirement already satisfied: opencv-python in c:\\users\\dell\\anaconda3\\lib\\site-packages (4.5.2.52)\n",
      "Requirement already satisfied: numpy>=1.17.3 in c:\\users\\dell\\anaconda3\\lib\\site-packages (from opencv-python) (1.20.1)\n",
      "Note: you may need to restart the kernel to use updated packages.\n"
     ]
    }
   ],
   "source": [
    "pip install opencv-python"
   ]
  },
  {
   "cell_type": "code",
   "execution_count": 4,
   "id": "ef841378",
   "metadata": {},
   "outputs": [],
   "source": [
    "import cv2"
   ]
  },
  {
   "cell_type": "code",
   "execution_count": 5,
   "id": "a47d669b",
   "metadata": {},
   "outputs": [],
   "source": [
    "#triangle\n",
    "my_image = cv2.line(my_image,(150,114) , (250,114) , (0,0,255) , 6)\n",
    "my_image = cv2.line(my_image,(150,114) , (200,20) , (0,0,255) , 6)\n",
    "my_image = cv2.line(my_image,(200,20) , (250,114) , (0,0,255) , 6)"
   ]
  },
  {
   "cell_type": "code",
   "execution_count": 6,
   "id": "c8ea2b57",
   "metadata": {},
   "outputs": [],
   "source": [
    "#line inside traingle\n",
    "my_image = cv2.line(my_image,(180,95) , (220,95) , (255,255,255) , 4)"
   ]
  },
  {
   "cell_type": "code",
   "execution_count": 7,
   "id": "3c32a3b2",
   "metadata": {},
   "outputs": [],
   "source": [
    "#small circles\n",
    "my_image = cv2.circle(my_image,(190,70) , 5 , (255,255,255) , 3)\n",
    "my_image = cv2.circle(my_image,(218,70) , 5 , (255,255,255) , 3)\n"
   ]
  },
  {
   "cell_type": "code",
   "execution_count": 8,
   "id": "263d938d",
   "metadata": {},
   "outputs": [],
   "source": [
    "#circle\n",
    "my_image = cv2.circle(my_image,(200,200) , 80 , (255,0,0) , 6)\n"
   ]
  },
  {
   "cell_type": "code",
   "execution_count": 9,
   "id": "095dad1d",
   "metadata": {},
   "outputs": [],
   "source": [
    "#diagonal lines\n",
    "my_image = cv2.line(my_image,(50,130) , (120,170) , (0,255,0) , 6)\n",
    "my_image = cv2.line(my_image,(280,170) , (350,130) , (0,255,0) , 6)\n",
    "#straight line\n",
    "my_image = cv2.line(my_image,(50,100) , (50,130) , (0,255,0) , 6)\n",
    "my_image = cv2.line(my_image,(350,100) , (350,130) , (0,255,0) , 6)"
   ]
  },
  {
   "cell_type": "code",
   "execution_count": 10,
   "id": "c9871fa5",
   "metadata": {},
   "outputs": [],
   "source": [
    "#lower left traingle\n",
    "my_image = cv2.line(my_image,(167,280) , (142,360) , (0,255,0) , 6)\n",
    "my_image = cv2.line(my_image,(142,360) , (197,360) , (0,255,0) , 6)\n",
    "my_image = cv2.line(my_image,(167,280) , (197,360) , (0,255,0) , 6)\n",
    "#lower right traingle\n",
    "my_image = cv2.line(my_image,(233,280) , (208,360) , (0,255,0) , 6)\n",
    "my_image = cv2.line(my_image,(208,360) , (263,360) , (0,255,0) , 6)\n",
    "my_image = cv2.line(my_image,(233,280) , (263,360) , (0,255,0) , 6)"
   ]
  },
  {
   "cell_type": "code",
   "execution_count": 11,
   "id": "36fd8135",
   "metadata": {},
   "outputs": [],
   "source": [
    "cv2.imshow(\"create image\" , my_image)\n",
    "cv2.waitKey()\n",
    "cv2.destroyAllWindows()"
   ]
  },
  {
   "cell_type": "code",
   "execution_count": null,
   "id": "8e105bb3",
   "metadata": {},
   "outputs": [],
   "source": []
  },
  {
   "cell_type": "code",
   "execution_count": null,
   "id": "d4a29594",
   "metadata": {},
   "outputs": [],
   "source": []
  }
 ],
 "metadata": {
  "kernelspec": {
   "display_name": "Python 3",
   "language": "python",
   "name": "python3"
  },
  "language_info": {
   "codemirror_mode": {
    "name": "ipython",
    "version": 3
   },
   "file_extension": ".py",
   "mimetype": "text/x-python",
   "name": "python",
   "nbconvert_exporter": "python",
   "pygments_lexer": "ipython3",
   "version": "3.8.8"
  }
 },
 "nbformat": 4,
 "nbformat_minor": 5
}
