{
 "cells": [
  {
   "cell_type": "code",
   "execution_count": 1,
   "id": "31403864",
   "metadata": {},
   "outputs": [],
   "source": [
    "import cv2"
   ]
  },
  {
   "cell_type": "code",
   "execution_count": 2,
   "id": "f51cc088",
   "metadata": {},
   "outputs": [],
   "source": [
    "man =cv2.imread(\"man.jpeg\")"
   ]
  },
  {
   "cell_type": "code",
   "execution_count": 3,
   "id": "bad5d979",
   "metadata": {},
   "outputs": [
    {
     "data": {
      "text/plain": [
       "(275, 183, 3)"
      ]
     },
     "execution_count": 3,
     "metadata": {},
     "output_type": "execute_result"
    }
   ],
   "source": [
    "man.shape"
   ]
  },
  {
   "cell_type": "code",
   "execution_count": 4,
   "id": "9b21204d",
   "metadata": {},
   "outputs": [],
   "source": [
    "cat =cv2.imread(\"cat.jpeg\")"
   ]
  },
  {
   "cell_type": "code",
   "execution_count": 5,
   "id": "6a6ed437",
   "metadata": {},
   "outputs": [
    {
     "data": {
      "text/plain": [
       "(183, 275, 3)"
      ]
     },
     "execution_count": 5,
     "metadata": {},
     "output_type": "execute_result"
    }
   ],
   "source": [
    "cat.shape"
   ]
  },
  {
   "cell_type": "code",
   "execution_count": 6,
   "id": "78cfd616",
   "metadata": {},
   "outputs": [],
   "source": [
    "cv2.imshow( \"mann\",man)\n",
    "cv2.waitKey()\n",
    "cv2.destroyAllWindows()"
   ]
  },
  {
   "cell_type": "code",
   "execution_count": 7,
   "id": "e0be11a8",
   "metadata": {},
   "outputs": [],
   "source": [
    "cv2.imshow( \"caty\",cat)\n",
    "cv2.waitKey()\n",
    "cv2.destroyAllWindows()"
   ]
  },
  {
   "cell_type": "code",
   "execution_count": 11,
   "id": "8e8890b0",
   "metadata": {},
   "outputs": [],
   "source": [
    "man_face=man[20:183,90:260]\n",
    "cat[20:210,90:183]=man_face\n",
    "cv2.imshow( \"caty\",cat)\n",
    "cv2.waitKey()\n",
    "cv2.destroyAllWindows()"
   ]
  },
  {
   "cell_type": "code",
   "execution_count": 16,
   "id": "55e0b328",
   "metadata": {},
   "outputs": [],
   "source": [
    "cat=cv2.imread(\"cat.jpeg\")\n",
    "cat_face=cat[15:215,90:183]\n",
    "man[20:188,90:200]=cat_face\n",
    "cv2.imshow( \"mann\",man)\n",
    "cv2.waitKey()\n",
    "cv2.destroyAllWindows()\n"
   ]
  },
  {
   "cell_type": "code",
   "execution_count": null,
   "id": "87c966c2",
   "metadata": {},
   "outputs": [],
   "source": []
  },
  {
   "cell_type": "code",
   "execution_count": null,
   "id": "268eac4e",
   "metadata": {},
   "outputs": [],
   "source": []
  },
  {
   "cell_type": "code",
   "execution_count": null,
   "id": "a662a5f5",
   "metadata": {},
   "outputs": [],
   "source": []
  }
 ],
 "metadata": {
  "kernelspec": {
   "display_name": "Python 3",
   "language": "python",
   "name": "python3"
  },
  "language_info": {
   "codemirror_mode": {
    "name": "ipython",
    "version": 3
   },
   "file_extension": ".py",
   "mimetype": "text/x-python",
   "name": "python",
   "nbconvert_exporter": "python",
   "pygments_lexer": "ipython3",
   "version": "3.8.8"
  }
 },
 "nbformat": 4,
 "nbformat_minor": 5
}
